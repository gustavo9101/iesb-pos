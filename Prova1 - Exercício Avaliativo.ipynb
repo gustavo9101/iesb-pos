{
 "cells": [
  {
   "cell_type": "markdown",
   "metadata": {},
   "source": [
    "# Dados de passagens aéreas do governo - out/2017"
   ]
  },
  {
   "cell_type": "code",
   "execution_count": 8,
   "metadata": {},
   "outputs": [],
   "source": [
    "import pandas as pd\n"
   ]
  },
  {
   "cell_type": "code",
   "execution_count": 17,
   "metadata": {},
   "outputs": [
    {
     "data": {
      "text/html": [
       "<div>\n",
       "<style scoped>\n",
       "    .dataframe tbody tr th:only-of-type {\n",
       "        vertical-align: middle;\n",
       "    }\n",
       "\n",
       "    .dataframe tbody tr th {\n",
       "        vertical-align: top;\n",
       "    }\n",
       "\n",
       "    .dataframe thead th {\n",
       "        text-align: right;\n",
       "    }\n",
       "</style>\n",
       "<table border=\"1\" class=\"dataframe\">\n",
       "  <thead>\n",
       "    <tr style=\"text-align: right;\">\n",
       "      <th></th>\n",
       "      <th>Código do órgão superior</th>\n",
       "      <th>Nome do órgão superior</th>\n",
       "      <th>Código do órgão solicitante da viagem</th>\n",
       "      <th>Nome do órgão solicitante da viagem</th>\n",
       "      <th>N. PCDP</th>\n",
       "      <th>N. Reserva/Localizador</th>\n",
       "      <th>Data Emissão Bilhete</th>\n",
       "      <th>Data Embarque</th>\n",
       "      <th>Valor Tarifa Comercial</th>\n",
       "      <th>Percentual Desconto Aplicado</th>\n",
       "      <th>...</th>\n",
       "      <th>Companhia Aérea</th>\n",
       "      <th>Classe Tarifária Bilhete</th>\n",
       "      <th>Regra Tarifária</th>\n",
       "      <th>No Show</th>\n",
       "      <th>Remarcado</th>\n",
       "      <th>Cancelado</th>\n",
       "      <th>Valor Multas</th>\n",
       "      <th>Valor Reembolso</th>\n",
       "      <th>Diferença de Tarifa</th>\n",
       "      <th>Situação Final Bilhete</th>\n",
       "    </tr>\n",
       "  </thead>\n",
       "  <tbody>\n",
       "    <tr>\n",
       "      <th>0</th>\n",
       "      <td>3</td>\n",
       "      <td>Fundação Instituto Brasileiro de Geografia e ...</td>\n",
       "      <td>3.0</td>\n",
       "      <td>Fundação Instituto Brasileiro de Geografia e ...</td>\n",
       "      <td>028012/17</td>\n",
       "      <td>JGZQXC</td>\n",
       "      <td>2017-10-03 11:33:35.808</td>\n",
       "      <td>2017-10-06 20:55:00</td>\n",
       "      <td>407.4</td>\n",
       "      <td>0.0</td>\n",
       "      <td>...</td>\n",
       "      <td>LATAM AIRLINES BRASIL</td>\n",
       "      <td>N</td>\n",
       "      <td>http://t.umail.com.br/ClickHere/ViewEmail.asp...</td>\n",
       "      <td>Não</td>\n",
       "      <td>Não</td>\n",
       "      <td>Não</td>\n",
       "      <td>0.0</td>\n",
       "      <td>0.0</td>\n",
       "      <td>0.0</td>\n",
       "      <td>Voado</td>\n",
       "    </tr>\n",
       "    <tr>\n",
       "      <th>1</th>\n",
       "      <td>3</td>\n",
       "      <td>Fundação Instituto Brasileiro de Geografia e ...</td>\n",
       "      <td>3.0</td>\n",
       "      <td>Fundação Instituto Brasileiro de Geografia e ...</td>\n",
       "      <td>028012/17</td>\n",
       "      <td>JHH5FW</td>\n",
       "      <td>2017-10-03 11:33:37.149</td>\n",
       "      <td>2017-10-04 15:00:00</td>\n",
       "      <td>229.0</td>\n",
       "      <td>3.0</td>\n",
       "      <td>...</td>\n",
       "      <td>AVIANCA S.A.</td>\n",
       "      <td>Z</td>\n",
       "      <td>https://www.avianca.com.br/regras-de-tarifas ...</td>\n",
       "      <td>Não</td>\n",
       "      <td>Não</td>\n",
       "      <td>Não</td>\n",
       "      <td>0.0</td>\n",
       "      <td>0.0</td>\n",
       "      <td>0.0</td>\n",
       "      <td>Voado</td>\n",
       "    </tr>\n",
       "  </tbody>\n",
       "</table>\n",
       "<p>2 rows × 23 columns</p>\n",
       "</div>"
      ],
      "text/plain": [
       "  Código do órgão superior                             Nome do órgão superior  \\\n",
       "0                        3   Fundação Instituto Brasileiro de Geografia e ...   \n",
       "1                        3   Fundação Instituto Brasileiro de Geografia e ...   \n",
       "\n",
       "   Código do órgão solicitante da viagem  \\\n",
       "0                                    3.0   \n",
       "1                                    3.0   \n",
       "\n",
       "                 Nome do órgão solicitante da viagem          N. PCDP  \\\n",
       "0   Fundação Instituto Brasileiro de Geografia e ...   028012/17        \n",
       "1   Fundação Instituto Brasileiro de Geografia e ...   028012/17        \n",
       "\n",
       "     N. Reserva/Localizador      Data Emissão Bilhete         Data Embarque  \\\n",
       "0   JGZQXC                    2017-10-03 11:33:35.808   2017-10-06 20:55:00   \n",
       "1   JHH5FW                    2017-10-03 11:33:37.149   2017-10-04 15:00:00   \n",
       "\n",
       "   Valor Tarifa Comercial  Percentual Desconto Aplicado  \\\n",
       "0                   407.4                           0.0   \n",
       "1                   229.0                           3.0   \n",
       "\n",
       "            ...                                   Companhia Aérea  \\\n",
       "0           ...             LATAM AIRLINES BRASIL                   \n",
       "1           ...             AVIANCA S.A.                            \n",
       "\n",
       "     Classe Tarifária Bilhete  \\\n",
       "0   N                           \n",
       "1   Z                           \n",
       "\n",
       "                                     Regra Tarifária    No Show    Remarcado  \\\n",
       "0   http://t.umail.com.br/ClickHere/ViewEmail.asp...   Não        Não          \n",
       "1   https://www.avianca.com.br/regras-de-tarifas ...   Não        Não          \n",
       "\n",
       "     Cancelado Valor Multas Valor Reembolso Diferença de Tarifa  \\\n",
       "0   Não                 0.0             0.0                 0.0   \n",
       "1   Não                 0.0             0.0                 0.0   \n",
       "\n",
       "   Situação Final Bilhete  \n",
       "0                   Voado  \n",
       "1                   Voado  \n",
       "\n",
       "[2 rows x 23 columns]"
      ]
     },
     "execution_count": 17,
     "metadata": {},
     "output_type": "execute_result"
    }
   ],
   "source": [
    "file = r'C:\\Users\\Public\\Documents\\Python Scripts\\201710_EmissaoPassagens_SCDP.xlsx'\n",
    "df = pd.read_excel(file)\n",
    "df.head(2)"
   ]
  },
  {
   "cell_type": "code",
   "execution_count": 18,
   "metadata": {},
   "outputs": [
    {
     "name": "stdout",
     "output_type": "stream",
     "text": [
      "<class 'pandas.core.frame.DataFrame'>\n",
      "RangeIndex: 50408 entries, 0 to 50407\n",
      "Data columns (total 23 columns):\n",
      "Código do órgão superior                 50407 non-null object\n",
      "Nome do órgão superior                   50405 non-null object\n",
      "Código do órgão solicitante da viagem    50405 non-null float64\n",
      "Nome do órgão solicitante da viagem      50405 non-null object\n",
      "N. PCDP                                  50405 non-null object\n",
      "N. Reserva/Localizador                   50405 non-null object\n",
      "Data Emissão Bilhete                     50405 non-null object\n",
      "Data Embarque                            50405 non-null object\n",
      "Valor Tarifa Comercial                   50405 non-null float64\n",
      "Percentual Desconto Aplicado             50405 non-null float64\n",
      "Valor Tarifa Governo                     50405 non-null float64\n",
      "Valor Tarifa Embarque                    50405 non-null float64\n",
      "Valor Bilhete                            50405 non-null float64\n",
      "Companhia Aérea                          50405 non-null object\n",
      "Classe Tarifária Bilhete                 50405 non-null object\n",
      "Regra Tarifária                          50405 non-null object\n",
      "No Show                                  50405 non-null object\n",
      "Remarcado                                50405 non-null object\n",
      "Cancelado                                50405 non-null object\n",
      "Valor Multas                             50405 non-null float64\n",
      "Valor Reembolso                          50405 non-null float64\n",
      "Diferença de Tarifa                      50405 non-null float64\n",
      "Situação Final Bilhete                   50405 non-null object\n",
      "dtypes: float64(9), object(14)\n",
      "memory usage: 8.8+ MB\n"
     ]
    }
   ],
   "source": [
    "df.info()"
   ]
  },
  {
   "cell_type": "code",
   "execution_count": 21,
   "metadata": {},
   "outputs": [
    {
     "data": {
      "text/plain": [
       "30200     2017-10-25 22:40:00\n",
       "37710     2017-10-09 21:55:00\n",
       "28757     2017-11-29 01:06:00\n",
       "5257      2017-10-17 07:05:00\n",
       "3289      2017-10-29 15:50:00\n",
       "28141     2017-10-15 04:05:00\n",
       "24228     2017-11-06 21:40:00\n",
       "44159     2017-10-17 15:05:00\n",
       "14764     2017-11-27 14:25:00\n",
       "16306     2017-10-29 23:05:00\n",
       "26141     2017-11-22 08:50:00\n",
       "8411      2017-10-29 17:53:00\n",
       "2520      2017-10-24 18:45:00\n",
       "24639     2017-10-22 10:15:00\n",
       "45149     2017-10-29 21:00:00\n",
       "Name: Data Embarque, dtype: object"
      ]
     },
     "execution_count": 21,
     "metadata": {},
     "output_type": "execute_result"
    }
   ],
   "source": [
    "df['Data Embarque'].sample(15)"
   ]
  },
  {
   "cell_type": "code",
   "execution_count": 22,
   "metadata": {},
   "outputs": [
    {
     "data": {
      "text/plain": [
       "8553       2017-10-26 09:28:43.893\n",
       "11373      2017-10-02 12:24:51.737\n",
       "3324       2017-10-31 15:41:11.049\n",
       "26915     2017-10-26 09:49:12.09  \n",
       "30718      2017-10-18 10:45:21.121\n",
       "5102       2017-09-22 17:21:09.048\n",
       "17088      2017-10-26 10:33:01.234\n",
       "2121       2017-10-02 19:16:39.611\n",
       "20049      2017-10-03 13:16:56.252\n",
       "39016      2017-10-25 18:13:16.381\n",
       "36681      2017-10-05 18:44:56.414\n",
       "46610      2017-10-25 10:01:29.159\n",
       "36066      2017-10-09 10:40:54.233\n",
       "23096      2017-10-13 17:17:00.472\n",
       "8707       2017-10-23 14:17:24.506\n",
       "Name: Data Emissão Bilhete, dtype: object"
      ]
     },
     "execution_count": 22,
     "metadata": {},
     "output_type": "execute_result"
    }
   ],
   "source": [
    "df['Data Emissão Bilhete'].sample(15)"
   ]
  },
  {
   "cell_type": "code",
   "execution_count": 23,
   "metadata": {},
   "outputs": [
    {
     "data": {
      "text/html": [
       "<div>\n",
       "<style scoped>\n",
       "    .dataframe tbody tr th:only-of-type {\n",
       "        vertical-align: middle;\n",
       "    }\n",
       "\n",
       "    .dataframe tbody tr th {\n",
       "        vertical-align: top;\n",
       "    }\n",
       "\n",
       "    .dataframe thead th {\n",
       "        text-align: right;\n",
       "    }\n",
       "</style>\n",
       "<table border=\"1\" class=\"dataframe\">\n",
       "  <thead>\n",
       "    <tr style=\"text-align: right;\">\n",
       "      <th></th>\n",
       "      <th>Código do órgão solicitante da viagem</th>\n",
       "      <th>Valor Tarifa Comercial</th>\n",
       "      <th>Percentual Desconto Aplicado</th>\n",
       "      <th>Valor Tarifa Governo</th>\n",
       "      <th>Valor Tarifa Embarque</th>\n",
       "      <th>Valor Bilhete</th>\n",
       "      <th>Valor Multas</th>\n",
       "      <th>Valor Reembolso</th>\n",
       "      <th>Diferença de Tarifa</th>\n",
       "    </tr>\n",
       "  </thead>\n",
       "  <tbody>\n",
       "    <tr>\n",
       "      <th>count</th>\n",
       "      <td>50405.000000</td>\n",
       "      <td>50405.000000</td>\n",
       "      <td>50405.000000</td>\n",
       "      <td>50405.000000</td>\n",
       "      <td>50405.000000</td>\n",
       "      <td>50405.000000</td>\n",
       "      <td>50405.000000</td>\n",
       "      <td>50405.000000</td>\n",
       "      <td>50405.000000</td>\n",
       "    </tr>\n",
       "    <tr>\n",
       "      <th>mean</th>\n",
       "      <td>47696.792084</td>\n",
       "      <td>678.273258</td>\n",
       "      <td>2.078992</td>\n",
       "      <td>665.376185</td>\n",
       "      <td>29.479631</td>\n",
       "      <td>694.855817</td>\n",
       "      <td>0.044621</td>\n",
       "      <td>4.165333</td>\n",
       "      <td>0.081756</td>\n",
       "    </tr>\n",
       "    <tr>\n",
       "      <th>std</th>\n",
       "      <td>50214.945925</td>\n",
       "      <td>432.242664</td>\n",
       "      <td>3.211066</td>\n",
       "      <td>423.415953</td>\n",
       "      <td>7.247023</td>\n",
       "      <td>424.865564</td>\n",
       "      <td>2.722357</td>\n",
       "      <td>53.269333</td>\n",
       "      <td>6.273655</td>\n",
       "    </tr>\n",
       "    <tr>\n",
       "      <th>min</th>\n",
       "      <td>-122771.000000</td>\n",
       "      <td>0.000000</td>\n",
       "      <td>-6.640000</td>\n",
       "      <td>0.000000</td>\n",
       "      <td>0.000000</td>\n",
       "      <td>0.000000</td>\n",
       "      <td>0.000000</td>\n",
       "      <td>0.000000</td>\n",
       "      <td>0.000000</td>\n",
       "    </tr>\n",
       "    <tr>\n",
       "      <th>25%</th>\n",
       "      <td>3418.000000</td>\n",
       "      <td>365.690000</td>\n",
       "      <td>0.000000</td>\n",
       "      <td>357.930000</td>\n",
       "      <td>28.030000</td>\n",
       "      <td>387.340000</td>\n",
       "      <td>0.000000</td>\n",
       "      <td>0.000000</td>\n",
       "      <td>0.000000</td>\n",
       "    </tr>\n",
       "    <tr>\n",
       "      <th>50%</th>\n",
       "      <td>32207.000000</td>\n",
       "      <td>575.980000</td>\n",
       "      <td>3.000000</td>\n",
       "      <td>562.500000</td>\n",
       "      <td>29.410000</td>\n",
       "      <td>591.430000</td>\n",
       "      <td>0.000000</td>\n",
       "      <td>0.000000</td>\n",
       "      <td>0.000000</td>\n",
       "    </tr>\n",
       "    <tr>\n",
       "      <th>75%</th>\n",
       "      <td>86558.000000</td>\n",
       "      <td>877.900000</td>\n",
       "      <td>3.000000</td>\n",
       "      <td>860.900000</td>\n",
       "      <td>29.900000</td>\n",
       "      <td>890.360000</td>\n",
       "      <td>0.000000</td>\n",
       "      <td>0.000000</td>\n",
       "      <td>0.000000</td>\n",
       "    </tr>\n",
       "    <tr>\n",
       "      <th>max</th>\n",
       "      <td>224227.000000</td>\n",
       "      <td>4156.800000</td>\n",
       "      <td>100.000000</td>\n",
       "      <td>4032.090000</td>\n",
       "      <td>112.820000</td>\n",
       "      <td>4083.610000</td>\n",
       "      <td>210.000000</td>\n",
       "      <td>2304.460000</td>\n",
       "      <td>957.120000</td>\n",
       "    </tr>\n",
       "  </tbody>\n",
       "</table>\n",
       "</div>"
      ],
      "text/plain": [
       "       Código do órgão solicitante da viagem  Valor Tarifa Comercial  \\\n",
       "count                           50405.000000            50405.000000   \n",
       "mean                            47696.792084              678.273258   \n",
       "std                             50214.945925              432.242664   \n",
       "min                           -122771.000000                0.000000   \n",
       "25%                              3418.000000              365.690000   \n",
       "50%                             32207.000000              575.980000   \n",
       "75%                             86558.000000              877.900000   \n",
       "max                            224227.000000             4156.800000   \n",
       "\n",
       "       Percentual Desconto Aplicado  Valor Tarifa Governo  \\\n",
       "count                  50405.000000          50405.000000   \n",
       "mean                       2.078992            665.376185   \n",
       "std                        3.211066            423.415953   \n",
       "min                       -6.640000              0.000000   \n",
       "25%                        0.000000            357.930000   \n",
       "50%                        3.000000            562.500000   \n",
       "75%                        3.000000            860.900000   \n",
       "max                      100.000000           4032.090000   \n",
       "\n",
       "       Valor Tarifa Embarque  Valor Bilhete  Valor Multas  Valor Reembolso  \\\n",
       "count           50405.000000   50405.000000  50405.000000     50405.000000   \n",
       "mean               29.479631     694.855817      0.044621         4.165333   \n",
       "std                 7.247023     424.865564      2.722357        53.269333   \n",
       "min                 0.000000       0.000000      0.000000         0.000000   \n",
       "25%                28.030000     387.340000      0.000000         0.000000   \n",
       "50%                29.410000     591.430000      0.000000         0.000000   \n",
       "75%                29.900000     890.360000      0.000000         0.000000   \n",
       "max               112.820000    4083.610000    210.000000      2304.460000   \n",
       "\n",
       "       Diferença de Tarifa  \n",
       "count         50405.000000  \n",
       "mean              0.081756  \n",
       "std               6.273655  \n",
       "min               0.000000  \n",
       "25%               0.000000  \n",
       "50%               0.000000  \n",
       "75%               0.000000  \n",
       "max             957.120000  "
      ]
     },
     "execution_count": 23,
     "metadata": {},
     "output_type": "execute_result"
    }
   ],
   "source": [
    "df.describe()"
   ]
  },
  {
   "cell_type": "code",
   "execution_count": 24,
   "metadata": {},
   "outputs": [
    {
     "data": {
      "text/plain": [
       " Ministério da Fazenda                                                                   2949\n",
       " Departamento de Polícia Federal                                                         2664\n",
       " Instituto Nacional de Estudos e Pesquisas Educacionais Anísio Teixeira                  2561\n",
       " Ministério da Saúde                                                                     2356\n",
       " Departamento de Polícia Rodoviária Federal                                              1600\n",
       " Instituto Nacional do Seguro Social                                                     1426\n",
       " Comando do Exército                                                                     1315\n",
       " Ministério da Educação                                                                  1170\n",
       " Comando da Aeronáutica                                                                  1156\n",
       " Ministério da Justiça                                                                   1061\n",
       " Agência Nacional de Aviação Civil                                                       1005\n",
       " Fundação Nacional de Saúde                                                               911\n",
       " Ministério do Trabalho                                                                   906\n",
       " Ministério da Agricultura, Pecuária e Abastecimento                                      903\n",
       " Instituto Brasileiro do Meio Ambiente e dos Recursos Naturais Renováveis                 811\n",
       " Fundação Universidade de Brasília                                                        749\n",
       " Instituto Nacional de Colonização e Reforma Agrária                                      743\n",
       " Ministério da Defesa                                                                     698\n",
       " Universidade Federal de Uberlândia                                                       663\n",
       " Departamento Nacional de Infra-Estrutura de Transportes                                  649\n",
       " Fundação Instituto Brasileiro de Geografia e Estatística                                 607\n",
       " Instituto do Patrimônio Histórico e Artístico Nacional                                   605\n",
       " Universidade Federal do Pará                                                             571\n",
       " Fundação Oswaldo Cruz                                                                    566\n",
       " Ministério do Desenvolvimento Social e Agrário                                           556\n",
       " Agência Nacional de Vigilância Sanitária                                                 542\n",
       " Advocacia-Geral da União                                                                 532\n",
       " Ministério da Transparência, Fiscalização e Controladoria-Geral da União                 450\n",
       " Universidade Federal de Juiz de Fora                                                     448\n",
       " Secretaria Especial dos Direitos Humanos                                                 429\n",
       "                                                                                         ... \n",
       " Ministério das Relações Exteriores                                                        45\n",
       " Universidade da Integração Internacional da Lusofonia Afro-Brasileira-UNILAB              43\n",
       " Empresa de Planejamento e Logística S.A.                                                  42\n",
       " Superintendência Nacional de Previdência Complementar                                     42\n",
       " Departamento Nacional de Obras Contra as Secas                                            40\n",
       " Colégio Pedro II                                                                          37\n",
       " Fundação Jorge Duprat Figueiredo, de Segurança e Medicina do Trabalho                     37\n",
       " Instituto Federal de Educação, Ciência e Tecnologia do Triângulo Mineiro                  34\n",
       " Instituto Federal de Educação, Ciência e Tecnologia do Rio de Janeiro                     32\n",
       " Superintendência do Desenvolvimento da Amazônia                                           30\n",
       " Fundação Escola Nacional de Administração Pública                                         26\n",
       " Universidade Federal de Lavras                                                            24\n",
       " Universidade Federal do Recôncavo da Bahia                                                24\n",
       " Instituto Federal de Educação, Ciência e Tecnologia de Brasília                           22\n",
       " Instituto Nacional da Propriedade Industrial                                              21\n",
       " Superintendência de Desenvolvimento do Centro-Oeste                                       20\n",
       " Universidade Federal do Triângulo Mineiro                                                 19\n",
       " Conselho Administrativo de Defesa Econômica                                               17\n",
       " Instituto Nacional de Tecnologia da Informação                                            16\n",
       " Instituto Federal de Educação, Ciência e Tecnologia de Sergipe                            16\n",
       " Instituto Federal de Educação, Ciência e Tecnológica do Piauí.                            15\n",
       " Instituto Benjamin Constant                                                               14\n",
       " Fundação Casa de Rui Barbosa                                                              12\n",
       " Instituto Brasileiro de Turismo                                                           11\n",
       " Conselho Nacional de Desenvolvimento Científico e Tecnológico                             11\n",
       " Caixa de Financiamento Imobiliário da Aeronáutica                                          6\n",
       " Empresa de Pesquisa Energética                                                             6\n",
       " Secretaria de Comunicação Social da Presidência da República                               5\n",
       " Secretaria de Políticas para as Mulheres da Presidência da República                       4\n",
       " Instituto de Pesquisas Jardim Botânico do Rio de Janeiro                                   2\n",
       "Name: Nome do órgão superior, Length: 180, dtype: int64"
      ]
     },
     "execution_count": 24,
     "metadata": {},
     "output_type": "execute_result"
    }
   ],
   "source": [
    "df['Nome do órgão superior'].value_counts()"
   ]
  },
  {
   "cell_type": "code",
   "execution_count": 25,
   "metadata": {},
   "outputs": [
    {
     "data": {
      "text/plain": [
       " GOL Linhas Aéreas Inteligentes           17568\n",
       " LATAM AIRLINES BRASIL                    12301\n",
       " AZUL LINHAS AÉREAS BRASILEIRA            10967\n",
       " AVIANCA S.A.                              9028\n",
       " MAP TRANSPORTES AEREOS LTDA - MAP          274\n",
       " Gol OU Latam - Parceria com Terceiro       267\n",
       "Name: Companhia Aérea, dtype: int64"
      ]
     },
     "execution_count": 25,
     "metadata": {},
     "output_type": "execute_result"
    }
   ],
   "source": [
    "df['Companhia Aérea'].value_counts()"
   ]
  },
  {
   "cell_type": "code",
   "execution_count": 26,
   "metadata": {},
   "outputs": [
    {
     "data": {
      "text/plain": [
       " Voado        28257\n",
       " Andamento    19960\n",
       " Cancelado     2188\n",
       "Name: Situação Final Bilhete, dtype: int64"
      ]
     },
     "execution_count": 26,
     "metadata": {},
     "output_type": "execute_result"
    }
   ],
   "source": [
    "df['Situação Final Bilhete'].value_counts()"
   ]
  },
  {
   "cell_type": "code",
   "execution_count": 27,
   "metadata": {},
   "outputs": [],
   "source": [
    "%matplotlib inline"
   ]
  },
  {
   "cell_type": "code",
   "execution_count": 34,
   "metadata": {},
   "outputs": [
    {
     "data": {
      "text/plain": [
       "<matplotlib.axes._subplots.AxesSubplot at 0xd92f080>"
      ]
     },
     "execution_count": 34,
     "metadata": {},
     "output_type": "execute_result"
    },
    {
     "data": {
      "image/png": "[encoded data removed]",
      "text/plain": [
       "<matplotlib.figure.Figure at 0xd95f358>"
      ]
     },
     "metadata": {},
     "output_type": "display_data"
    }
   ],
   "source": [
    "df['Companhia Aérea'].value_counts().plot.barh()"
   ]
  },
  {
   "cell_type": "code",
   "execution_count": 35,
   "metadata": {},
   "outputs": [
    {
     "data": {
      "text/plain": [
       "<matplotlib.axes._subplots.AxesSubplot at 0xd95fba8>"
      ]
     },
     "execution_count": 35,
     "metadata": {},
     "output_type": "execute_result"
    },
    {
     "data": {
      "image/png": "[encoded data removed]",
      "text/plain": [
       "<matplotlib.figure.Figure at 0xcbd1898>"
      ]
     },
     "metadata": {},
     "output_type": "display_data"
    }
   ],
   "source": [
    "df['Situação Final Bilhete'].value_counts().plot.pie()"
   ]
  },
  {
   "cell_type": "code",
   "execution_count": 36,
   "metadata": {},
   "outputs": [
    {
     "data": {
      "text/plain": [
       "0                Fundação\n",
       "1                Fundação\n",
       "2                Fundação\n",
       "3                Fundação\n",
       "4                Fundação\n",
       "5                Fundação\n",
       "6                Fundação\n",
       "7                Fundação\n",
       "8                Fundação\n",
       "9                Fundação\n",
       "10               Fundação\n",
       "11               Fundação\n",
       "12               Fundação\n",
       "13               Fundação\n",
       "14               Fundação\n",
       "15               Fundação\n",
       "16               Fundação\n",
       "17               Fundação\n",
       "18               Fundação\n",
       "19               Fundação\n",
       "20               Fundação\n",
       "21               Fundação\n",
       "22               Fundação\n",
       "23               Fundação\n",
       "24               Fundação\n",
       "25               Fundação\n",
       "26               Fundação\n",
       "27               Fundação\n",
       "28               Fundação\n",
       "29               Fundação\n",
       "               ...       \n",
       "50378    Secretaria-Geral\n",
       "50379    Secretaria-Geral\n",
       "50380    Secretaria-Geral\n",
       "50381    Secretaria-Geral\n",
       "50382    Secretaria-Geral\n",
       "50383    Secretaria-Geral\n",
       "50384    Secretaria-Geral\n",
       "50385    Secretaria-Geral\n",
       "50386    Secretaria-Geral\n",
       "50387    Secretaria-Geral\n",
       "50388    Secretaria-Geral\n",
       "50389    Secretaria-Geral\n",
       "50390    Secretaria-Geral\n",
       "50391    Secretaria-Geral\n",
       "50392    Secretaria-Geral\n",
       "50393    Secretaria-Geral\n",
       "50394    Secretaria-Geral\n",
       "50395    Secretaria-Geral\n",
       "50396    Secretaria-Geral\n",
       "50397    Secretaria-Geral\n",
       "50398    Secretaria-Geral\n",
       "50399    Secretaria-Geral\n",
       "50400    Secretaria-Geral\n",
       "50401    Secretaria-Geral\n",
       "50402    Secretaria-Geral\n",
       "50403    Secretaria-Geral\n",
       "50404    Secretaria-Geral\n",
       "50405                 NaN\n",
       "50406                 NaN\n",
       "50407                 NaN\n",
       "Name: Nome do órgão superior, Length: 50408, dtype: object"
      ]
     },
     "execution_count": 36,
     "metadata": {},
     "output_type": "execute_result"
    }
   ],
   "source": [
    "df['Nome do órgão superior'].str.split().str[0]"
   ]
  },
  {
   "cell_type": "code",
   "execution_count": 37,
   "metadata": {},
   "outputs": [],
   "source": [
    "df['TIPO_INSTITUIÇÃO']=df['Nome do órgão superior'].str.split().str[0]"
   ]
  },
  {
   "cell_type": "code",
   "execution_count": 38,
   "metadata": {},
   "outputs": [
    {
     "data": {
      "text/html": [
       "<div>\n",
       "<style scoped>\n",
       "    .dataframe tbody tr th:only-of-type {\n",
       "        vertical-align: middle;\n",
       "    }\n",
       "\n",
       "    .dataframe tbody tr th {\n",
       "        vertical-align: top;\n",
       "    }\n",
       "\n",
       "    .dataframe thead th {\n",
       "        text-align: right;\n",
       "    }\n",
       "</style>\n",
       "<table border=\"1\" class=\"dataframe\">\n",
       "  <thead>\n",
       "    <tr style=\"text-align: right;\">\n",
       "      <th></th>\n",
       "      <th>Código do órgão superior</th>\n",
       "      <th>Nome do órgão superior</th>\n",
       "      <th>Código do órgão solicitante da viagem</th>\n",
       "      <th>Nome do órgão solicitante da viagem</th>\n",
       "      <th>N. PCDP</th>\n",
       "      <th>N. Reserva/Localizador</th>\n",
       "      <th>Data Emissão Bilhete</th>\n",
       "      <th>Data Embarque</th>\n",
       "      <th>Valor Tarifa Comercial</th>\n",
       "      <th>Percentual Desconto Aplicado</th>\n",
       "      <th>...</th>\n",
       "      <th>Classe Tarifária Bilhete</th>\n",
       "      <th>Regra Tarifária</th>\n",
       "      <th>No Show</th>\n",
       "      <th>Remarcado</th>\n",
       "      <th>Cancelado</th>\n",
       "      <th>Valor Multas</th>\n",
       "      <th>Valor Reembolso</th>\n",
       "      <th>Diferença de Tarifa</th>\n",
       "      <th>Situação Final Bilhete</th>\n",
       "      <th>TIPO_INSTITUIÇÃO</th>\n",
       "    </tr>\n",
       "  </thead>\n",
       "  <tbody>\n",
       "    <tr>\n",
       "      <th>0</th>\n",
       "      <td>3</td>\n",
       "      <td>Fundação Instituto Brasileiro de Geografia e ...</td>\n",
       "      <td>3.0</td>\n",
       "      <td>Fundação Instituto Brasileiro de Geografia e ...</td>\n",
       "      <td>028012/17</td>\n",
       "      <td>JGZQXC</td>\n",
       "      <td>2017-10-03 11:33:35.808</td>\n",
       "      <td>2017-10-06 20:55:00</td>\n",
       "      <td>407.4</td>\n",
       "      <td>0.0</td>\n",
       "      <td>...</td>\n",
       "      <td>N</td>\n",
       "      <td>http://t.umail.com.br/ClickHere/ViewEmail.asp...</td>\n",
       "      <td>Não</td>\n",
       "      <td>Não</td>\n",
       "      <td>Não</td>\n",
       "      <td>0.0</td>\n",
       "      <td>0.0</td>\n",
       "      <td>0.0</td>\n",
       "      <td>Voado</td>\n",
       "      <td>Fundação</td>\n",
       "    </tr>\n",
       "    <tr>\n",
       "      <th>1</th>\n",
       "      <td>3</td>\n",
       "      <td>Fundação Instituto Brasileiro de Geografia e ...</td>\n",
       "      <td>3.0</td>\n",
       "      <td>Fundação Instituto Brasileiro de Geografia e ...</td>\n",
       "      <td>028012/17</td>\n",
       "      <td>JHH5FW</td>\n",
       "      <td>2017-10-03 11:33:37.149</td>\n",
       "      <td>2017-10-04 15:00:00</td>\n",
       "      <td>229.0</td>\n",
       "      <td>3.0</td>\n",
       "      <td>...</td>\n",
       "      <td>Z</td>\n",
       "      <td>https://www.avianca.com.br/regras-de-tarifas ...</td>\n",
       "      <td>Não</td>\n",
       "      <td>Não</td>\n",
       "      <td>Não</td>\n",
       "      <td>0.0</td>\n",
       "      <td>0.0</td>\n",
       "      <td>0.0</td>\n",
       "      <td>Voado</td>\n",
       "      <td>Fundação</td>\n",
       "    </tr>\n",
       "    <tr>\n",
       "      <th>2</th>\n",
       "      <td>3</td>\n",
       "      <td>Fundação Instituto Brasileiro de Geografia e ...</td>\n",
       "      <td>3.0</td>\n",
       "      <td>Fundação Instituto Brasileiro de Geografia e ...</td>\n",
       "      <td>030294/17</td>\n",
       "      <td>GIKVKJ</td>\n",
       "      <td>2017-10-16 16:12:52.327</td>\n",
       "      <td>2017-10-26 11:40:00</td>\n",
       "      <td>1111.9</td>\n",
       "      <td>0.0</td>\n",
       "      <td>...</td>\n",
       "      <td>J</td>\n",
       "      <td>https://www.voegol.com.br/pt/informacoes/tari...</td>\n",
       "      <td>Não</td>\n",
       "      <td>Não</td>\n",
       "      <td>Não</td>\n",
       "      <td>0.0</td>\n",
       "      <td>0.0</td>\n",
       "      <td>0.0</td>\n",
       "      <td>Andamento</td>\n",
       "      <td>Fundação</td>\n",
       "    </tr>\n",
       "  </tbody>\n",
       "</table>\n",
       "<p>3 rows × 24 columns</p>\n",
       "</div>"
      ],
      "text/plain": [
       "  Código do órgão superior                             Nome do órgão superior  \\\n",
       "0                        3   Fundação Instituto Brasileiro de Geografia e ...   \n",
       "1                        3   Fundação Instituto Brasileiro de Geografia e ...   \n",
       "2                        3   Fundação Instituto Brasileiro de Geografia e ...   \n",
       "\n",
       "   Código do órgão solicitante da viagem  \\\n",
       "0                                    3.0   \n",
       "1                                    3.0   \n",
       "2                                    3.0   \n",
       "\n",
       "                 Nome do órgão solicitante da viagem          N. PCDP  \\\n",
       "0   Fundação Instituto Brasileiro de Geografia e ...   028012/17        \n",
       "1   Fundação Instituto Brasileiro de Geografia e ...   028012/17        \n",
       "2   Fundação Instituto Brasileiro de Geografia e ...   030294/17        \n",
       "\n",
       "     N. Reserva/Localizador      Data Emissão Bilhete         Data Embarque  \\\n",
       "0   JGZQXC                    2017-10-03 11:33:35.808   2017-10-06 20:55:00   \n",
       "1   JHH5FW                    2017-10-03 11:33:37.149   2017-10-04 15:00:00   \n",
       "2   GIKVKJ                    2017-10-16 16:12:52.327   2017-10-26 11:40:00   \n",
       "\n",
       "   Valor Tarifa Comercial  Percentual Desconto Aplicado        ...         \\\n",
       "0                   407.4                           0.0        ...          \n",
       "1                   229.0                           3.0        ...          \n",
       "2                  1111.9                           0.0        ...          \n",
       "\n",
       "     Classe Tarifária Bilhete  \\\n",
       "0   N                           \n",
       "1   Z                           \n",
       "2   J                           \n",
       "\n",
       "                                     Regra Tarifária    No Show    Remarcado  \\\n",
       "0   http://t.umail.com.br/ClickHere/ViewEmail.asp...   Não        Não          \n",
       "1   https://www.avianca.com.br/regras-de-tarifas ...   Não        Não          \n",
       "2   https://www.voegol.com.br/pt/informacoes/tari...   Não        Não          \n",
       "\n",
       "     Cancelado Valor Multas Valor Reembolso Diferença de Tarifa  \\\n",
       "0   Não                 0.0             0.0                 0.0   \n",
       "1   Não                 0.0             0.0                 0.0   \n",
       "2   Não                 0.0             0.0                 0.0   \n",
       "\n",
       "  Situação Final Bilhete  TIPO_INSTITUIÇÃO  \n",
       "0                  Voado          Fundação  \n",
       "1                  Voado          Fundação  \n",
       "2              Andamento          Fundação  \n",
       "\n",
       "[3 rows x 24 columns]"
      ]
     },
     "execution_count": 38,
     "metadata": {},
     "output_type": "execute_result"
    }
   ],
   "source": [
    "df.head(3)"
   ]
  },
  {
   "cell_type": "code",
   "execution_count": 39,
   "metadata": {
    "scrolled": true
   },
   "outputs": [
    {
     "data": {
      "text/plain": [
       "Ministério          13149\n",
       "Instituto            9862\n",
       "Universidade         7833\n",
       "Fundação             6114\n",
       "Departamento         5131\n",
       "Agência              2918\n",
       "Comando              2471\n",
       "Secretaria            796\n",
       "Comissão              553\n",
       "Advocacia-Geral       532\n",
       "Superintendência      358\n",
       "Casa                  172\n",
       "Centro                149\n",
       "Secretaria-Geral       93\n",
       "Presidência            79\n",
       "Gabinete               76\n",
       "Empresa                48\n",
       "Colégio                37\n",
       "Conselho               28\n",
       "Caixa                   6\n",
       "Name: TIPO_INSTITUIÇÃO, dtype: int64"
      ]
     },
     "execution_count": 39,
     "metadata": {},
     "output_type": "execute_result"
    }
   ],
   "source": [
    "df['TIPO_INSTITUIÇÃO'].value_counts()"
   ]
  },
  {
   "cell_type": "code",
   "execution_count": 40,
   "metadata": {},
   "outputs": [
    {
     "data": {
      "text/plain": [
       "<matplotlib.axes._subplots.AxesSubplot at 0x10e1e240>"
      ]
     },
     "execution_count": 40,
     "metadata": {},
     "output_type": "execute_result"
    },
    {
     "data": {
      "image/png": "[encoded data removed]",
      "text/plain": [
       "<matplotlib.figure.Figure at 0x10e1e588>"
      ]
     },
     "metadata": {},
     "output_type": "display_data"
    }
   ],
   "source": [
    "df['TIPO_INSTITUIÇÃO'].value_counts().plot.bar()"
   ]
  },
  {
   "cell_type": "code",
   "execution_count": 43,
   "metadata": {},
   "outputs": [],
   "source": [
    "import seaborn as sns"
   ]
  },
  {
   "cell_type": "code",
   "execution_count": 46,
   "metadata": {},
   "outputs": [
    {
     "name": "stdout",
     "output_type": "stream",
     "text": [
      "<class 'pandas.core.frame.DataFrame'>\n",
      "RangeIndex: 50408 entries, 0 to 50407\n",
      "Data columns (total 24 columns):\n",
      "Código do órgão superior                 50407 non-null object\n",
      "Nome do órgão superior                   50405 non-null object\n",
      "Código do órgão solicitante da viagem    50405 non-null float64\n",
      "Nome do órgão solicitante da viagem      50405 non-null object\n",
      "N. PCDP                                  50405 non-null object\n",
      "N. Reserva/Localizador                   50405 non-null object\n",
      "Data Emissão Bilhete                     50405 non-null object\n",
      "Data Embarque                            50405 non-null object\n",
      "Valor Tarifa Comercial                   50405 non-null float64\n",
      "Percentual Desconto Aplicado             50405 non-null float64\n",
      "Valor Tarifa Governo                     50405 non-null float64\n",
      "Valor Tarifa Embarque                    50405 non-null float64\n",
      "Valor Bilhete                            50405 non-null float64\n",
      "Companhia Aérea                          50405 non-null object\n",
      "Classe Tarifária Bilhete                 50405 non-null object\n",
      "Regra Tarifária                          50405 non-null object\n",
      "No Show                                  50405 non-null object\n",
      "Remarcado                                50405 non-null object\n",
      "Cancelado                                50405 non-null object\n",
      "Valor Multas                             50405 non-null float64\n",
      "Valor Reembolso                          50405 non-null float64\n",
      "Diferença de Tarifa                      50405 non-null float64\n",
      "Situação Final Bilhete                   50405 non-null object\n",
      "TIPO_INSTITUIÇÃO                         50405 non-null object\n",
      "dtypes: float64(9), object(15)\n",
      "memory usage: 9.2+ MB\n"
     ]
    }
   ],
   "source": [
    "df.info()"
   ]
  },
  {
   "cell_type": "code",
   "execution_count": 51,
   "metadata": {},
   "outputs": [
    {
     "data": {
      "text/plain": [
       "<matplotlib.axes._subplots.AxesSubplot at 0xbd980f0>"
      ]
     },
     "execution_count": 51,
     "metadata": {},
     "output_type": "execute_result"
    },
    {
     "data": {
      "image/png": "[encoded data removed]",
      "text/plain": [
       "<matplotlib.figure.Figure at 0xdde7ac8>"
      ]
     },
     "metadata": {},
     "output_type": "display_data"
    }
   ],
   "source": [
    "sns.boxplot(x='Situação Final Bilhete',y='Valor Tarifa Comercial', data=df)"
   ]
  },
  {
   "cell_type": "code",
   "execution_count": 54,
   "metadata": {},
   "outputs": [
    {
     "data": {
      "text/plain": [
       "<matplotlib.axes._subplots.AxesSubplot at 0xe20ad68>"
      ]
     },
     "execution_count": 54,
     "metadata": {},
     "output_type": "execute_result"
    },
    {
     "data": {
      "image/png": "[encoded data removed]",
      "text/plain": [
       "<matplotlib.figure.Figure at 0xb905f60>"
      ]
     },
     "metadata": {},
     "output_type": "display_data"
    }
   ],
   "source": [
    "sns.countplot(x='Situação Final Bilhete', data=df)"
   ]
  },
  {
   "cell_type": "code",
   "execution_count": 55,
   "metadata": {},
   "outputs": [
    {
     "data": {
      "text/plain": [
       "<seaborn.axisgrid.FacetGrid at 0xde10978>"
      ]
     },
     "execution_count": 55,
     "metadata": {},
     "output_type": "execute_result"
    },
    {
     "data": {
      "image/png": "[encoded data removed]",
      "text/plain": [
       "<matplotlib.figure.Figure at 0xdecdac8>"
      ]
     },
     "metadata": {},
     "output_type": "display_data"
    }
   ],
   "source": [
    "sns.factorplot(x='Situação Final Bilhete', data=df, col ='Companhia Aérea', kind = 'count')"
   ]
  },
  {
   "cell_type": "code",
   "execution_count": 56,
   "metadata": {},
   "outputs": [
    {
     "data": {
      "text/plain": [
       "<matplotlib.axes._subplots.AxesSubplot at 0x10aecef0>"
      ]
     },
     "execution_count": 56,
     "metadata": {},
     "output_type": "execute_result"
    },
    {
     "data": {
      "image/png": "[encoded data removed]",
      "text/plain": [
       "<matplotlib.figure.Figure at 0xc1ebac8>"
      ]
     },
     "metadata": {},
     "output_type": "display_data"
    }
   ],
   "source": [
    "sns.countplot(x='Situação Final Bilhete', hue='Companhia Aérea', data=df)"
   ]
  },
  {
   "cell_type": "code",
   "execution_count": 58,
   "metadata": {},
   "outputs": [],
   "source": [
    "df['COMPANHIA']=df['Companhia Aérea'].str.split().str[0]"
   ]
  },
  {
   "cell_type": "code",
   "execution_count": 61,
   "metadata": {},
   "outputs": [
    {
     "data": {
      "text/html": [
       "<div>\n",
       "<style scoped>\n",
       "    .dataframe tbody tr th:only-of-type {\n",
       "        vertical-align: middle;\n",
       "    }\n",
       "\n",
       "    .dataframe tbody tr th {\n",
       "        vertical-align: top;\n",
       "    }\n",
       "\n",
       "    .dataframe thead th {\n",
       "        text-align: right;\n",
       "    }\n",
       "</style>\n",
       "<table border=\"1\" class=\"dataframe\">\n",
       "  <thead>\n",
       "    <tr style=\"text-align: right;\">\n",
       "      <th></th>\n",
       "      <th>Código do órgão superior</th>\n",
       "      <th>Nome do órgão superior</th>\n",
       "      <th>Código do órgão solicitante da viagem</th>\n",
       "      <th>Nome do órgão solicitante da viagem</th>\n",
       "      <th>N. PCDP</th>\n",
       "      <th>N. Reserva/Localizador</th>\n",
       "      <th>Data Emissão Bilhete</th>\n",
       "      <th>Data Embarque</th>\n",
       "      <th>Valor Tarifa Comercial</th>\n",
       "      <th>Percentual Desconto Aplicado</th>\n",
       "      <th>...</th>\n",
       "      <th>Regra Tarifária</th>\n",
       "      <th>No Show</th>\n",
       "      <th>Remarcado</th>\n",
       "      <th>Cancelado</th>\n",
       "      <th>Valor Multas</th>\n",
       "      <th>Valor Reembolso</th>\n",
       "      <th>Diferença de Tarifa</th>\n",
       "      <th>Situação Final Bilhete</th>\n",
       "      <th>TIPO_INSTITUIÇÃO</th>\n",
       "      <th>COMPANHIA</th>\n",
       "    </tr>\n",
       "  </thead>\n",
       "  <tbody>\n",
       "    <tr>\n",
       "      <th>0</th>\n",
       "      <td>3</td>\n",
       "      <td>Fundação Instituto Brasileiro de Geografia e ...</td>\n",
       "      <td>3.0</td>\n",
       "      <td>Fundação Instituto Brasileiro de Geografia e ...</td>\n",
       "      <td>028012/17</td>\n",
       "      <td>JGZQXC</td>\n",
       "      <td>2017-10-03 11:33:35.808</td>\n",
       "      <td>2017-10-06 20:55:00</td>\n",
       "      <td>407.4</td>\n",
       "      <td>0.0</td>\n",
       "      <td>...</td>\n",
       "      <td>http://t.umail.com.br/ClickHere/ViewEmail.asp...</td>\n",
       "      <td>Não</td>\n",
       "      <td>Não</td>\n",
       "      <td>Não</td>\n",
       "      <td>0.0</td>\n",
       "      <td>0.0</td>\n",
       "      <td>0.0</td>\n",
       "      <td>Voado</td>\n",
       "      <td>Fundação</td>\n",
       "      <td>LATAM</td>\n",
       "    </tr>\n",
       "    <tr>\n",
       "      <th>1</th>\n",
       "      <td>3</td>\n",
       "      <td>Fundação Instituto Brasileiro de Geografia e ...</td>\n",
       "      <td>3.0</td>\n",
       "      <td>Fundação Instituto Brasileiro de Geografia e ...</td>\n",
       "      <td>028012/17</td>\n",
       "      <td>JHH5FW</td>\n",
       "      <td>2017-10-03 11:33:37.149</td>\n",
       "      <td>2017-10-04 15:00:00</td>\n",
       "      <td>229.0</td>\n",
       "      <td>3.0</td>\n",
       "      <td>...</td>\n",
       "      <td>https://www.avianca.com.br/regras-de-tarifas ...</td>\n",
       "      <td>Não</td>\n",
       "      <td>Não</td>\n",
       "      <td>Não</td>\n",
       "      <td>0.0</td>\n",
       "      <td>0.0</td>\n",
       "      <td>0.0</td>\n",
       "      <td>Voado</td>\n",
       "      <td>Fundação</td>\n",
       "      <td>AVIANCA</td>\n",
       "    </tr>\n",
       "    <tr>\n",
       "      <th>2</th>\n",
       "      <td>3</td>\n",
       "      <td>Fundação Instituto Brasileiro de Geografia e ...</td>\n",
       "      <td>3.0</td>\n",
       "      <td>Fundação Instituto Brasileiro de Geografia e ...</td>\n",
       "      <td>030294/17</td>\n",
       "      <td>GIKVKJ</td>\n",
       "      <td>2017-10-16 16:12:52.327</td>\n",
       "      <td>2017-10-26 11:40:00</td>\n",
       "      <td>1111.9</td>\n",
       "      <td>0.0</td>\n",
       "      <td>...</td>\n",
       "      <td>https://www.voegol.com.br/pt/informacoes/tari...</td>\n",
       "      <td>Não</td>\n",
       "      <td>Não</td>\n",
       "      <td>Não</td>\n",
       "      <td>0.0</td>\n",
       "      <td>0.0</td>\n",
       "      <td>0.0</td>\n",
       "      <td>Andamento</td>\n",
       "      <td>Fundação</td>\n",
       "      <td>GOL</td>\n",
       "    </tr>\n",
       "    <tr>\n",
       "      <th>3</th>\n",
       "      <td>3</td>\n",
       "      <td>Fundação Instituto Brasileiro de Geografia e ...</td>\n",
       "      <td>3.0</td>\n",
       "      <td>Fundação Instituto Brasileiro de Geografia e ...</td>\n",
       "      <td>030294/17</td>\n",
       "      <td>HMHR3K</td>\n",
       "      <td>2017-10-16 16:12:58.196</td>\n",
       "      <td>2017-10-23 11:15:00</td>\n",
       "      <td>1015.9</td>\n",
       "      <td>0.0</td>\n",
       "      <td>...</td>\n",
       "      <td>https://www.voegol.com.br/pt/informacoes/tari...</td>\n",
       "      <td>Não</td>\n",
       "      <td>Não</td>\n",
       "      <td>Não</td>\n",
       "      <td>0.0</td>\n",
       "      <td>0.0</td>\n",
       "      <td>0.0</td>\n",
       "      <td>Voado</td>\n",
       "      <td>Fundação</td>\n",
       "      <td>GOL</td>\n",
       "    </tr>\n",
       "    <tr>\n",
       "      <th>4</th>\n",
       "      <td>3</td>\n",
       "      <td>Fundação Instituto Brasileiro de Geografia e ...</td>\n",
       "      <td>3.0</td>\n",
       "      <td>Fundação Instituto Brasileiro de Geografia e ...</td>\n",
       "      <td>032694/17</td>\n",
       "      <td>LQF4YR</td>\n",
       "      <td>2017-10-31 13:36:19.009</td>\n",
       "      <td>2017-11-20 18:35:00</td>\n",
       "      <td>185.9</td>\n",
       "      <td>3.0</td>\n",
       "      <td>...</td>\n",
       "      <td>https://www.voegol.com.br/pt/informacoes/tari...</td>\n",
       "      <td>Não</td>\n",
       "      <td>Não</td>\n",
       "      <td>Não</td>\n",
       "      <td>0.0</td>\n",
       "      <td>0.0</td>\n",
       "      <td>0.0</td>\n",
       "      <td>Andamento</td>\n",
       "      <td>Fundação</td>\n",
       "      <td>GOL</td>\n",
       "    </tr>\n",
       "  </tbody>\n",
       "</table>\n",
       "<p>5 rows × 25 columns</p>\n",
       "</div>"
      ],
      "text/plain": [
       "  Código do órgão superior                             Nome do órgão superior  \\\n",
       "0                        3   Fundação Instituto Brasileiro de Geografia e ...   \n",
       "1                        3   Fundação Instituto Brasileiro de Geografia e ...   \n",
       "2                        3   Fundação Instituto Brasileiro de Geografia e ...   \n",
       "3                        3   Fundação Instituto Brasileiro de Geografia e ...   \n",
       "4                        3   Fundação Instituto Brasileiro de Geografia e ...   \n",
       "\n",
       "   Código do órgão solicitante da viagem  \\\n",
       "0                                    3.0   \n",
       "1                                    3.0   \n",
       "2                                    3.0   \n",
       "3                                    3.0   \n",
       "4                                    3.0   \n",
       "\n",
       "                 Nome do órgão solicitante da viagem          N. PCDP  \\\n",
       "0   Fundação Instituto Brasileiro de Geografia e ...   028012/17        \n",
       "1   Fundação Instituto Brasileiro de Geografia e ...   028012/17        \n",
       "2   Fundação Instituto Brasileiro de Geografia e ...   030294/17        \n",
       "3   Fundação Instituto Brasileiro de Geografia e ...   030294/17        \n",
       "4   Fundação Instituto Brasileiro de Geografia e ...   032694/17        \n",
       "\n",
       "     N. Reserva/Localizador      Data Emissão Bilhete         Data Embarque  \\\n",
       "0   JGZQXC                    2017-10-03 11:33:35.808   2017-10-06 20:55:00   \n",
       "1   JHH5FW                    2017-10-03 11:33:37.149   2017-10-04 15:00:00   \n",
       "2   GIKVKJ                    2017-10-16 16:12:52.327   2017-10-26 11:40:00   \n",
       "3   HMHR3K                    2017-10-16 16:12:58.196   2017-10-23 11:15:00   \n",
       "4   LQF4YR                    2017-10-31 13:36:19.009   2017-11-20 18:35:00   \n",
       "\n",
       "   Valor Tarifa Comercial  Percentual Desconto Aplicado    ...      \\\n",
       "0                   407.4                           0.0    ...       \n",
       "1                   229.0                           3.0    ...       \n",
       "2                  1111.9                           0.0    ...       \n",
       "3                  1015.9                           0.0    ...       \n",
       "4                   185.9                           3.0    ...       \n",
       "\n",
       "                                     Regra Tarifária    No Show    Remarcado  \\\n",
       "0   http://t.umail.com.br/ClickHere/ViewEmail.asp...   Não        Não          \n",
       "1   https://www.avianca.com.br/regras-de-tarifas ...   Não        Não          \n",
       "2   https://www.voegol.com.br/pt/informacoes/tari...   Não        Não          \n",
       "3   https://www.voegol.com.br/pt/informacoes/tari...   Não        Não          \n",
       "4   https://www.voegol.com.br/pt/informacoes/tari...   Não        Não          \n",
       "\n",
       "     Cancelado Valor Multas Valor Reembolso Diferença de Tarifa  \\\n",
       "0   Não                 0.0             0.0                 0.0   \n",
       "1   Não                 0.0             0.0                 0.0   \n",
       "2   Não                 0.0             0.0                 0.0   \n",
       "3   Não                 0.0             0.0                 0.0   \n",
       "4   Não                 0.0             0.0                 0.0   \n",
       "\n",
       "  Situação Final Bilhete TIPO_INSTITUIÇÃO  COMPANHIA  \n",
       "0                  Voado         Fundação      LATAM  \n",
       "1                  Voado         Fundação    AVIANCA  \n",
       "2              Andamento         Fundação        GOL  \n",
       "3                  Voado         Fundação        GOL  \n",
       "4              Andamento         Fundação        GOL  \n",
       "\n",
       "[5 rows x 25 columns]"
      ]
     },
     "execution_count": 61,
     "metadata": {},
     "output_type": "execute_result"
    }
   ],
   "source": [
    "df.head(5)"
   ]
  },
  {
   "cell_type": "code",
   "execution_count": 72,
   "metadata": {
    "scrolled": true
   },
   "outputs": [],
   "source": [
    "df['COMPANHIA']=df['COMPANHIA'].str.replace('Gol','Terceiros')"
   ]
  },
  {
   "cell_type": "code",
   "execution_count": 73,
   "metadata": {},
   "outputs": [
    {
     "data": {
      "text/plain": [
       "GOL          17568\n",
       "LATAM        12301\n",
       "AZUL         10967\n",
       "AVIANCA       9028\n",
       "MAP            274\n",
       "Terceiros      267\n",
       "Name: COMPANHIA, dtype: int64"
      ]
     },
     "execution_count": 73,
     "metadata": {},
     "output_type": "execute_result"
    }
   ],
   "source": [
    "df['COMPANHIA'].value_counts()"
   ]
  },
  {
   "cell_type": "code",
   "execution_count": 74,
   "metadata": {},
   "outputs": [
    {
     "data": {
      "text/plain": [
       "<matplotlib.axes._subplots.AxesSubplot at 0x14178f60>"
      ]
     },
     "execution_count": 74,
     "metadata": {},
     "output_type": "execute_result"
    },
    {
     "data": {
      "image/png": "[encoded data removed]",
      "text/plain": [
       "<matplotlib.figure.Figure at 0x1417f390>"
      ]
     },
     "metadata": {},
     "output_type": "display_data"
    }
   ],
   "source": [
    "sns.countplot(x='COMPANHIA', hue='Situação Final Bilhete', data=df)"
   ]
  }
 ],
 "metadata": {
  "kernelspec": {
   "display_name": "Python 3",
   "language": "python",
   "name": "python3"
  },
  "language_info": {
   "codemirror_mode": {
    "name": "ipython",
    "version": 3
   },
   "file_extension": ".py",
   "mimetype": "text/x-python",
   "name": "python",
   "nbconvert_exporter": "python",
   "pygments_lexer": "ipython3",
   "version": "3.6.4"
  }
 },
 "nbformat": 4,
 "nbformat_minor": 2
}
